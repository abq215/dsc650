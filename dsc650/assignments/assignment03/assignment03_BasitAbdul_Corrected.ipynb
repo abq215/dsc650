{
 "cells": [
  {
   "cell_type": "markdown",
   "metadata": {},
   "source": [
    "# Assignment 3"
   ]
  },
  {
   "cell_type": "markdown",
   "metadata": {},
   "source": [
    "Install the necessary libraries"
   ]
  },
  {
   "cell_type": "code",
   "execution_count": 1,
   "metadata": {},
   "outputs": [
    {
     "name": "stdout",
     "output_type": "stream",
     "text": [
      "Requirement already satisfied: pyarrow in c:\\users\\basiab1\\anaconda3\\lib\\site-packages (9.0.0)"
     ]
    },
    {
     "name": "stderr",
     "output_type": "stream",
     "text": [
      "WARNING: Ignoring invalid distribution -rotobuf (c:\\users\\basiab1\\anaconda3\\lib\\site-packages)\n",
      "WARNING: Ignoring invalid distribution -rotobuf (c:\\users\\basiab1\\anaconda3\\lib\\site-packages)\n",
      "WARNING: Ignoring invalid distribution -rotobuf (c:\\users\\basiab1\\anaconda3\\lib\\site-packages)\n",
      "WARNING: Ignoring invalid distribution -rotobuf (c:\\users\\basiab1\\anaconda3\\lib\\site-packages)\n",
      "WARNING: Ignoring invalid distribution -rotobuf (c:\\users\\basiab1\\anaconda3\\lib\\site-packages)\n",
      "WARNING: Ignoring invalid distribution -rotobuf (c:\\users\\basiab1\\anaconda3\\lib\\site-packages)\n"
     ]
    },
    {
     "name": "stdout",
     "output_type": "stream",
     "text": [
      "\n",
      "Requirement already satisfied: numpy>=1.16.6 in c:\\users\\basiab1\\anaconda3\\lib\\site-packages (from pyarrow) (1.20.3)\n"
     ]
    },
    {
     "name": "stderr",
     "output_type": "stream",
     "text": [
      "WARNING: Ignoring invalid distribution -rotobuf (c:\\users\\basiab1\\anaconda3\\lib\\site-packages)\n",
      "WARNING: Ignoring invalid distribution -rotobuf (c:\\users\\basiab1\\anaconda3\\lib\\site-packages)\n",
      "WARNING: Ignoring invalid distribution -rotobuf (c:\\users\\basiab1\\anaconda3\\lib\\site-packages)\n",
      "WARNING: Ignoring invalid distribution -rotobuf (c:\\users\\basiab1\\anaconda3\\lib\\site-packages)\n",
      "WARNING: Ignoring invalid distribution -rotobuf (c:\\users\\basiab1\\anaconda3\\lib\\site-packages)\n",
      "WARNING: Ignoring invalid distribution -rotobuf (c:\\users\\basiab1\\anaconda3\\lib\\site-packages)\n"
     ]
    },
    {
     "name": "stdout",
     "output_type": "stream",
     "text": [
      "Requirement already satisfied: fastavro in c:\\users\\basiab1\\anaconda3\\lib\\site-packages (1.6.1)\n",
      "Requirement already satisfied: pygeohash in c:\\users\\basiab1\\anaconda3\\lib\\site-packages (1.2.0)"
     ]
    },
    {
     "name": "stderr",
     "output_type": "stream",
     "text": [
      "WARNING: Ignoring invalid distribution -rotobuf (c:\\users\\basiab1\\anaconda3\\lib\\site-packages)\n",
      "WARNING: Ignoring invalid distribution -rotobuf (c:\\users\\basiab1\\anaconda3\\lib\\site-packages)\n",
      "WARNING: Ignoring invalid distribution -rotobuf (c:\\users\\basiab1\\anaconda3\\lib\\site-packages)\n",
      "WARNING: Ignoring invalid distribution -rotobuf (c:\\users\\basiab1\\anaconda3\\lib\\site-packages)\n",
      "WARNING: Ignoring invalid distribution -rotobuf (c:\\users\\basiab1\\anaconda3\\lib\\site-packages)\n",
      "WARNING: Ignoring invalid distribution -rotobuf (c:\\users\\basiab1\\anaconda3\\lib\\site-packages)\n"
     ]
    },
    {
     "name": "stdout",
     "output_type": "stream",
     "text": [
      "\n",
      "Requirement already satisfied: snappy in c:\\users\\basiab1\\anaconda3\\lib\\site-packages (3.0.3)\n",
      "Requirement already satisfied: plink>=2.4.1 in c:\\users\\basiab1\\anaconda3\\lib\\site-packages (from snappy) (2.4.1)\n",
      "Requirement already satisfied: cypari>=2.3 in c:\\users\\basiab1\\anaconda3\\lib\\site-packages (from snappy) (2.4.1)\n",
      "Requirement already satisfied: decorator in c:\\users\\basiab1\\anaconda3\\lib\\site-packages (from snappy) (5.1.0)\n",
      "Requirement already satisfied: FXrays>=1.3 in c:\\users\\basiab1\\anaconda3\\lib\\site-packages (from snappy) (1.3.5)\n",
      "Requirement already satisfied: snappy-manifolds>=1.1.2 in c:\\users\\basiab1\\anaconda3\\lib\\site-packages (from snappy) (1.1.2)\n",
      "Requirement already satisfied: spherogram>=2.1 in c:\\users\\basiab1\\anaconda3\\lib\\site-packages (from snappy) (2.1)\n",
      "Requirement already satisfied: pypng in c:\\users\\basiab1\\anaconda3\\lib\\site-packages (from snappy) (0.20220715.0)\n",
      "Requirement already satisfied: ipython>=5.0 in c:\\users\\basiab1\\anaconda3\\lib\\site-packages (from snappy) (7.29.0)\n",
      "Requirement already satisfied: six in c:\\users\\basiab1\\anaconda3\\lib\\site-packages (from cypari>=2.3->snappy) (1.16.0)\n"
     ]
    },
    {
     "name": "stderr",
     "output_type": "stream",
     "text": [
      "WARNING: Ignoring invalid distribution -rotobuf (c:\\users\\basiab1\\anaconda3\\lib\\site-packages)\n",
      "WARNING: Ignoring invalid distribution -rotobuf (c:\\users\\basiab1\\anaconda3\\lib\\site-packages)\n",
      "WARNING: Ignoring invalid distribution -rotobuf (c:\\users\\basiab1\\anaconda3\\lib\\site-packages)\n",
      "WARNING: Ignoring invalid distribution -rotobuf (c:\\users\\basiab1\\anaconda3\\lib\\site-packages)\n",
      "WARNING: Ignoring invalid distribution -rotobuf (c:\\users\\basiab1\\anaconda3\\lib\\site-packages)\n",
      "WARNING: Ignoring invalid distribution -rotobuf (c:\\users\\basiab1\\anaconda3\\lib\\site-packages)\n"
     ]
    },
    {
     "name": "stdout",
     "output_type": "stream",
     "text": [
      "Requirement already satisfied: future in c:\\users\\basiab1\\anaconda3\\lib\\site-packages (from cypari>=2.3->snappy) (0.18.2)\n",
      "Requirement already satisfied: matplotlib-inline in c:\\users\\basiab1\\anaconda3\\lib\\site-packages (from ipython>=5.0->snappy) (0.1.2)\n",
      "Requirement already satisfied: prompt-toolkit!=3.0.0,!=3.0.1,<3.1.0,>=2.0.0 in c:\\users\\basiab1\\anaconda3\\lib\\site-packages (from ipython>=5.0->snappy) (3.0.20)\n",
      "Requirement already satisfied: traitlets>=4.2 in c:\\users\\basiab1\\anaconda3\\lib\\site-packages (from ipython>=5.0->snappy) (5.1.0)\n",
      "Requirement already satisfied: pygments in c:\\users\\basiab1\\anaconda3\\lib\\site-packages (from ipython>=5.0->snappy) (2.10.0)\n",
      "Requirement already satisfied: jedi>=0.16 in c:\\users\\basiab1\\anaconda3\\lib\\site-packages (from ipython>=5.0->snappy) (0.18.0)\n",
      "Requirement already satisfied: pickleshare in c:\\users\\basiab1\\anaconda3\\lib\\site-packages (from ipython>=5.0->snappy) (0.7.5)\n",
      "Requirement already satisfied: backcall in c:\\users\\basiab1\\anaconda3\\lib\\site-packages (from ipython>=5.0->snappy) (0.2.0)\n",
      "Requirement already satisfied: colorama in c:\\users\\basiab1\\anaconda3\\lib\\site-packages (from ipython>=5.0->snappy) (0.4.4)\n",
      "Requirement already satisfied: setuptools>=18.5 in c:\\users\\basiab1\\anaconda3\\lib\\site-packages (from ipython>=5.0->snappy) (58.0.4)\n",
      "Requirement already satisfied: parso<0.9.0,>=0.8.0 in c:\\users\\basiab1\\anaconda3\\lib\\site-packages (from jedi>=0.16->ipython>=5.0->snappy) (0.8.2)\n",
      "Requirement already satisfied: wcwidth in c:\\users\\basiab1\\anaconda3\\lib\\site-packages (from prompt-toolkit!=3.0.0,!=3.0.1,<3.1.0,>=2.0.0->ipython>=5.0->snappy) (0.2.5)\n",
      "Requirement already satisfied: networkx in c:\\users\\basiab1\\anaconda3\\lib\\site-packages (from spherogram>=2.1->snappy) (2.6.3)\n",
      "Requirement already satisfied: knot-floer-homology>=1.1 in c:\\users\\basiab1\\anaconda3\\lib\\site-packages (from spherogram>=2.1->snappy) (1.2)\n",
      "Requirement already satisfied: jsonschema in c:\\users\\basiab1\\anaconda3\\lib\\site-packages (3.2.0)\n",
      "Requirement already satisfied: pyrsistent>=0.14.0 in c:\\users\\basiab1\\anaconda3\\lib\\site-packages (from jsonschema) (0.18.0)\n",
      "Requirement already satisfied: attrs>=17.4.0 in c:\\users\\basiab1\\anaconda3\\lib\\site-packages (from jsonschema) (21.2.0)\n",
      "Requirement already satisfied: setuptools in c:\\users\\basiab1\\anaconda3\\lib\\site-packages (from jsonschema) (58.0.4)\n",
      "Requirement already satisfied: six>=1.11.0 in c:\\users\\basiab1\\anaconda3\\lib\\site-packages (from jsonschema) (1.16.0)\n"
     ]
    },
    {
     "name": "stderr",
     "output_type": "stream",
     "text": [
      "WARNING: Ignoring invalid distribution -rotobuf (c:\\users\\basiab1\\anaconda3\\lib\\site-packages)\n",
      "WARNING: Ignoring invalid distribution -rotobuf (c:\\users\\basiab1\\anaconda3\\lib\\site-packages)\n",
      "WARNING: Ignoring invalid distribution -rotobuf (c:\\users\\basiab1\\anaconda3\\lib\\site-packages)\n",
      "WARNING: Ignoring invalid distribution -rotobuf (c:\\users\\basiab1\\anaconda3\\lib\\site-packages)\n",
      "WARNING: Ignoring invalid distribution -rotobuf (c:\\users\\basiab1\\anaconda3\\lib\\site-packages)\n",
      "WARNING: Ignoring invalid distribution -rotobuf (c:\\users\\basiab1\\anaconda3\\lib\\site-packages)\n"
     ]
    },
    {
     "name": "stdout",
     "output_type": "stream",
     "text": [
      "Requirement already satisfied: google in c:\\users\\basiab1\\anaconda3\\lib\\site-packages (3.0.0)"
     ]
    },
    {
     "name": "stderr",
     "output_type": "stream",
     "text": [
      "WARNING: Ignoring invalid distribution -rotobuf (c:\\users\\basiab1\\anaconda3\\lib\\site-packages)\n",
      "WARNING: Ignoring invalid distribution -rotobuf (c:\\users\\basiab1\\anaconda3\\lib\\site-packages)\n",
      "WARNING: Ignoring invalid distribution -rotobuf (c:\\users\\basiab1\\anaconda3\\lib\\site-packages)\n",
      "WARNING: Ignoring invalid distribution -rotobuf (c:\\users\\basiab1\\anaconda3\\lib\\site-packages)\n",
      "WARNING: Ignoring invalid distribution -rotobuf (c:\\users\\basiab1\\anaconda3\\lib\\site-packages)\n",
      "WARNING: Ignoring invalid distribution -rotobuf (c:\\users\\basiab1\\anaconda3\\lib\\site-packages)\n"
     ]
    },
    {
     "name": "stdout",
     "output_type": "stream",
     "text": [
      "\n",
      "Requirement already satisfied: beautifulsoup4 in c:\\users\\basiab1\\anaconda3\\lib\\site-packages (from google) (4.10.0)\n",
      "Requirement already satisfied: soupsieve>1.2 in c:\\users\\basiab1\\anaconda3\\lib\\site-packages (from beautifulsoup4->google) (2.2.1)\n",
      "Requirement already satisfied: protobuf in c:\\users\\basiab1\\anaconda3\\lib\\site-packages (3.20.1)\n"
     ]
    },
    {
     "name": "stderr",
     "output_type": "stream",
     "text": [
      "WARNING: Ignoring invalid distribution -rotobuf (c:\\users\\basiab1\\anaconda3\\lib\\site-packages)\n",
      "WARNING: Ignoring invalid distribution -rotobuf (c:\\users\\basiab1\\anaconda3\\lib\\site-packages)\n",
      "WARNING: Ignoring invalid distribution -rotobuf (c:\\users\\basiab1\\anaconda3\\lib\\site-packages)\n",
      "WARNING: Ignoring invalid distribution -rotobuf (c:\\users\\basiab1\\anaconda3\\lib\\site-packages)\n",
      "WARNING: Ignoring invalid distribution -rotobuf (c:\\users\\basiab1\\anaconda3\\lib\\site-packages)\n",
      "WARNING: Ignoring invalid distribution -rotobuf (c:\\users\\basiab1\\anaconda3\\lib\\site-packages)\n"
     ]
    }
   ],
   "source": [
    "! pip install pyarrow\n",
    "! pip install fastavro\n",
    "! pip install pygeohash\n",
    "! pip install snappy\n",
    "! pip install jsonschema\n",
    "! pip install google\n",
    "! pip install protobuf"
   ]
  },
  {
   "cell_type": "markdown",
   "metadata": {},
   "source": [
    "Import libraries and define common helper functions"
   ]
  },
  {
   "cell_type": "code",
   "execution_count": 2,
   "metadata": {
    "scrolled": true
   },
   "outputs": [],
   "source": [
    "import os\n",
    "import sys\n",
    "import gzip\n",
    "import json\n",
    "from pathlib import Path\n",
    "import csv\n",
    "\n",
    "import pandas as pd\n",
    "import pyarrow as pa\n",
    "from pyarrow.json import read_json\n",
    "import pyarrow.parquet as pq\n",
    "import fastavro\n",
    "import pygeohash\n",
    "import snappy\n",
    "import jsonschema\n",
    "from jsonschema.exceptions import ValidationError"
   ]
  },
  {
   "cell_type": "code",
   "execution_count": 3,
   "metadata": {},
   "outputs": [],
   "source": [
    "current_dir = Path(os.getcwd()).absolute()\n",
    "schema_dir = current_dir.joinpath('schemas')\n",
    "results_dir = current_dir.joinpath('results')\n",
    "results_dir.mkdir(parents=True, exist_ok=True)"
   ]
  },
  {
   "cell_type": "code",
   "execution_count": 4,
   "metadata": {},
   "outputs": [],
   "source": [
    "def read_jsonl_data_lm():\n",
    "    src_data_path = r'D:\\VZW Twinsburg\\Tuition assistance\\Bellevue University_MSDS\\DSC 650\\DSC650_Big Data\\dsc650\\data\\processed\\openflights\\routes.jsonl.gz'\n",
    "    with open(src_data_path, 'rb') as f_gz:\n",
    "        with gzip.open(src_data_path, 'rb') as f:\n",
    "            records = [json.loads(line) for line in f.readlines()]\n",
    "        \n",
    "\n",
    "    return records"
   ]
  },
  {
   "cell_type": "markdown",
   "metadata": {},
   "source": [
    "Load the records from routes.jsonl.gz file located in the local folder"
   ]
  },
  {
   "cell_type": "code",
   "execution_count": 5,
   "metadata": {},
   "outputs": [],
   "source": [
    "records = read_jsonl_data_lm()"
   ]
  },
  {
   "cell_type": "code",
   "execution_count": 6,
   "metadata": {},
   "outputs": [
    {
     "data": {
      "text/plain": [
       "[{'airline': {'airline_id': 410,\n",
       "   'name': 'Aerocondor',\n",
       "   'alias': 'ANA All Nippon Airways',\n",
       "   'iata': '2B',\n",
       "   'icao': 'ARD',\n",
       "   'callsign': 'AEROCONDOR',\n",
       "   'country': 'Portugal',\n",
       "   'active': True},\n",
       "  'src_airport': {'airport_id': 2965,\n",
       "   'name': 'Sochi International Airport',\n",
       "   'city': 'Sochi',\n",
       "   'country': 'Russia',\n",
       "   'iata': 'AER',\n",
       "   'icao': 'URSS',\n",
       "   'latitude': 43.449902,\n",
       "   'longitude': 39.9566,\n",
       "   'altitude': 89,\n",
       "   'timezone': 3.0,\n",
       "   'dst': 'N',\n",
       "   'tz_id': 'Europe/Moscow',\n",
       "   'type': 'airport',\n",
       "   'source': 'OurAirports'},\n",
       "  'dst_airport': {'airport_id': 2990,\n",
       "   'name': 'Kazan International Airport',\n",
       "   'city': 'Kazan',\n",
       "   'country': 'Russia',\n",
       "   'iata': 'KZN',\n",
       "   'icao': 'UWKD',\n",
       "   'latitude': 55.606201171875,\n",
       "   'longitude': 49.278701782227,\n",
       "   'altitude': 411,\n",
       "   'timezone': 3.0,\n",
       "   'dst': 'N',\n",
       "   'tz_id': 'Europe/Moscow',\n",
       "   'type': 'airport',\n",
       "   'source': 'OurAirports'},\n",
       "  'codeshare': False,\n",
       "  'equipment': ['CR2']},\n",
       " {'airline': {'airline_id': 410,\n",
       "   'name': 'Aerocondor',\n",
       "   'alias': 'ANA All Nippon Airways',\n",
       "   'iata': '2B',\n",
       "   'icao': 'ARD',\n",
       "   'callsign': 'AEROCONDOR',\n",
       "   'country': 'Portugal',\n",
       "   'active': True},\n",
       "  'src_airport': {'airport_id': 2966,\n",
       "   'name': 'Astrakhan Airport',\n",
       "   'city': 'Astrakhan',\n",
       "   'country': 'Russia',\n",
       "   'iata': 'ASF',\n",
       "   'icao': 'URWA',\n",
       "   'latitude': 46.2832984924,\n",
       "   'longitude': 48.0063018799,\n",
       "   'altitude': -65,\n",
       "   'timezone': 4.0,\n",
       "   'dst': 'N',\n",
       "   'tz_id': 'Europe/Samara',\n",
       "   'type': 'airport',\n",
       "   'source': 'OurAirports'},\n",
       "  'dst_airport': {'airport_id': 2990,\n",
       "   'name': 'Kazan International Airport',\n",
       "   'city': 'Kazan',\n",
       "   'country': 'Russia',\n",
       "   'iata': 'KZN',\n",
       "   'icao': 'UWKD',\n",
       "   'latitude': 55.606201171875,\n",
       "   'longitude': 49.278701782227,\n",
       "   'altitude': 411,\n",
       "   'timezone': 3.0,\n",
       "   'dst': 'N',\n",
       "   'tz_id': 'Europe/Moscow',\n",
       "   'type': 'airport',\n",
       "   'source': 'OurAirports'},\n",
       "  'codeshare': False,\n",
       "  'equipment': ['CR2']}]"
      ]
     },
     "execution_count": 6,
     "metadata": {},
     "output_type": "execute_result"
    }
   ],
   "source": [
    "# Let's see how the data looks like\n",
    "records[0:2]"
   ]
  },
  {
   "cell_type": "markdown",
   "metadata": {},
   "source": [
    "## 3.1"
   ]
  },
  {
   "cell_type": "markdown",
   "metadata": {},
   "source": [
    "### 3.1.a JSON Schema"
   ]
  },
  {
   "cell_type": "code",
   "execution_count": 7,
   "metadata": {
    "scrolled": true
   },
   "outputs": [],
   "source": [
    "def validate_jsonl_data(records):\n",
    "    schema_path = schema_dir.joinpath('routes-schema.json')\n",
    "    with open(schema_path) as f:\n",
    "        schema = json.load(f)\n",
    "        \n",
    "    with open('validation_csv_path', 'w', encoding='utf-8') as f:    \n",
    "        for i, record in enumerate(records):\n",
    "            try:\n",
    "                ## TODO: Validate record\n",
    "                jsonschema.validate(record, schema)\n",
    "                pass\n",
    "            except ValidationError as e:\n",
    "                ## Print message if invalid record\n",
    "                f.write(f\"Error: {e.message}; failed validating {e.validator} in schema {e.schema_path}\\r\\n\")\n",
    "                print(e)\n",
    "                pass\n",
    "\n",
    "validate_jsonl_data(records)"
   ]
  },
  {
   "cell_type": "markdown",
   "metadata": {},
   "source": [
    "### 3.1.b Avro"
   ]
  },
  {
   "cell_type": "code",
   "execution_count": 9,
   "metadata": {},
   "outputs": [],
   "source": [
    "def create_avro_dataset(records):\n",
    "    schema_path = schema_dir.joinpath('routes.avsc')\n",
    "    data_path = results_dir.joinpath('routes.avro')\n",
    "    ## TODO: Use fastavro to create Avro dataset\n",
    "    with open(schema_path, 'r') as f1:\n",
    "        schema = json.loads(f1.read())\n",
    "    parsed_schema = fastavro.parse_schema(schema)\n",
    "    ## create dataset\n",
    "    with open(data_path, 'wb') as out:\n",
    "        fastavro.writer(out, parsed_schema, records)\n",
    "        \n",
    "create_avro_dataset(records)"
   ]
  },
  {
   "cell_type": "code",
   "execution_count": 10,
   "metadata": {},
   "outputs": [
    {
     "name": "stdout",
     "output_type": "stream",
     "text": [
      "                                             airline  \\\n",
      "0  {'airline_id': 410, 'name': 'Aerocondor', 'ali...   \n",
      "1  {'airline_id': 410, 'name': 'Aerocondor', 'ali...   \n",
      "2  {'airline_id': 410, 'name': 'Aerocondor', 'ali...   \n",
      "3  {'airline_id': 410, 'name': 'Aerocondor', 'ali...   \n",
      "4  {'airline_id': 410, 'name': 'Aerocondor', 'ali...   \n",
      "\n",
      "                                         src_airport  \\\n",
      "0  {'airport_id': 2965, 'name': 'Sochi Internatio...   \n",
      "1  {'airport_id': 2966, 'name': 'Astrakhan Airpor...   \n",
      "2  {'airport_id': 2966, 'name': 'Astrakhan Airpor...   \n",
      "3  {'airport_id': 2968, 'name': 'Chelyabinsk Bala...   \n",
      "4  {'airport_id': 2968, 'name': 'Chelyabinsk Bala...   \n",
      "\n",
      "                                         dst_airport  codeshare  stops  \\\n",
      "0  {'airport_id': 2990, 'name': 'Kazan Internatio...      False      0   \n",
      "1  {'airport_id': 2990, 'name': 'Kazan Internatio...      False      0   \n",
      "2  {'airport_id': 2962, 'name': 'Mineralnyye Vody...      False      0   \n",
      "3  {'airport_id': 2990, 'name': 'Kazan Internatio...      False      0   \n",
      "4  {'airport_id': 4078, 'name': 'Tolmachevo Airpo...      False      0   \n",
      "\n",
      "  equipment  \n",
      "0     [CR2]  \n",
      "1     [CR2]  \n",
      "2     [CR2]  \n",
      "3     [CR2]  \n",
      "4     [CR2]  \n"
     ]
    }
   ],
   "source": [
    "# Check if file was created successfully\n",
    "# view contents\n",
    "data_path = results_dir.joinpath('routes.avro')\n",
    "with open(data_path, mode = 'rb') as f:\n",
    "    reader = fastavro.reader(f)\n",
    "    records = [r for r in reader]\n",
    "    df = pd.DataFrame.from_records(records)\n",
    "    print(df.head())"
   ]
  },
  {
   "cell_type": "markdown",
   "metadata": {},
   "source": [
    "### 3.1.c Parquet"
   ]
  },
  {
   "cell_type": "code",
   "execution_count": 10,
   "metadata": {},
   "outputs": [],
   "source": [
    "def create_parquet_dataset():\n",
    "    src_data_path = 'D:/VZW Twinsburg/Tuition assistance/Bellevue University_MSDS/DSC 650/DSC650_Big Data/dsc650/data/processed/openflights/routes.jsonl.gz'\n",
    "    parquet_output_path = results_dir.joinpath('routes.parquet')\n",
    "    with gzip.open(src_data_path, 'rb') as f:\n",
    "        table = read_json(f)\n",
    "    pq.write_table(table, parquet_output_path)\n",
    "\n",
    "create_parquet_dataset()"
   ]
  },
  {
   "cell_type": "code",
   "execution_count": 11,
   "metadata": {},
   "outputs": [
    {
     "data": {
      "text/plain": [
       "<pyarrow._parquet.FileMetaData object at 0x0000020E57E41450>\n",
       "  created_by: parquet-cpp-arrow version 9.0.0\n",
       "  num_columns: 38\n",
       "  num_rows: 67663\n",
       "  num_row_groups: 1\n",
       "  format_version: 2.6\n",
       "  serialized_size: 7567"
      ]
     },
     "execution_count": 11,
     "metadata": {},
     "output_type": "execute_result"
    }
   ],
   "source": [
    "# Check if file was created successfully\n",
    "# view contents\n",
    "parquet_output_path = results_dir.joinpath('routes.parquet')\n",
    "pqFile = pq.ParquetFile(parquet_output_path)\n",
    "pqFile.metadata"
   ]
  },
  {
   "cell_type": "markdown",
   "metadata": {},
   "source": [
    "### 3.1.d Protocol Buffers"
   ]
  },
  {
   "cell_type": "code",
   "execution_count": 12,
   "metadata": {},
   "outputs": [
    {
     "data": {
      "text/plain": [
       "'D:\\\\VZW Twinsburg\\\\Tuition assistance\\\\Bellevue University_MSDS\\\\DSC 650\\\\DSC650_Big Data\\\\dsc650\\\\dsc650\\\\assignments\\\\assignment03'"
      ]
     },
     "execution_count": 12,
     "metadata": {},
     "output_type": "execute_result"
    }
   ],
   "source": [
    "pwd"
   ]
  },
  {
   "cell_type": "code",
   "execution_count": 13,
   "metadata": {},
   "outputs": [
    {
     "name": "stdout",
     "output_type": "stream",
     "text": [
      " Volume in drive D is Data\n",
      " Volume Serial Number is B077-C018\n",
      "\n",
      " Directory of D:\\VZW Twinsburg\\Tuition assistance\\Bellevue University_MSDS\\DSC 650\\DSC650_Big Data\\dsc650\\dsc650\\assignments\\assignment03\n",
      "\n",
      "09/18/2022  10:05 PM    <DIR>          .\n",
      "09/18/2022  10:05 PM    <DIR>          ..\n",
      "09/17/2022  05:15 PM    <DIR>          .ipynb_checkpoints\n",
      "09/02/2022  08:37 PM                 0 __init__.py\n",
      "09/17/2022  10:27 PM    <DIR>          __pycache__\n",
      "09/17/2022  05:15 PM             8,518 Assignment 3.ipynb\n",
      "09/18/2022  10:05 PM            73,775 assignment03_BasitAbdul.ipynb\n",
      "09/18/2022  11:31 AM    <DIR>          results\n",
      "09/02/2022  08:37 PM            15,981 routes_pb2.py\n",
      "09/02/2022  08:37 PM    <DIR>          schemas\n",
      "09/18/2022  10:04 PM                 0 validation_csv_path\n",
      "               5 File(s)         98,274 bytes\n",
      "               6 Dir(s)  791,718,875,136 bytes free\n"
     ]
    }
   ],
   "source": [
    "ls"
   ]
  },
  {
   "cell_type": "code",
   "execution_count": 14,
   "metadata": {
    "scrolled": true
   },
   "outputs": [
    {
     "data": {
      "text/plain": [
       "{'ALLUSERSPROFILE': 'C:\\\\ProgramData',\n",
       " 'APPDATA': 'C:\\\\Users\\\\basiab1\\\\AppData\\\\Roaming',\n",
       " 'CHASSIS': 'Desktop',\n",
       " 'CHASSISTYPES': '.3.',\n",
       " 'CHASSIS_LAPTOP': 'FALSE',\n",
       " 'CHASSIS_MOBILE': 'FALSE',\n",
       " 'CHASSIS_TABLET': 'FALSE',\n",
       " 'CLIENTNAME': 'OHTWHPL95',\n",
       " 'COMMONPROGRAMFILES': 'C:\\\\Program Files\\\\Common Files',\n",
       " 'COMMONPROGRAMFILES(X86)': 'C:\\\\Program Files (x86)\\\\Common Files',\n",
       " 'COMMONPROGRAMW6432': 'C:\\\\Program Files\\\\Common Files',\n",
       " 'COMPUTERNAME': 'ILRMEDNW53',\n",
       " 'COMSPEC': 'C:\\\\windows\\\\system32\\\\cmd.exe',\n",
       " 'DRIVERDATA': 'C:\\\\Windows\\\\System32\\\\Drivers\\\\DriverData',\n",
       " 'HOMEDRIVE': 'P:',\n",
       " 'HOMEPATH': '\\\\',\n",
       " 'HOMESHARE': '\\\\\\\\win.eng.vzwnet.com\\\\greatlakes1\\\\homes\\\\basiab1',\n",
       " 'LOCALAPPDATA': 'C:\\\\Users\\\\basiab1\\\\AppData\\\\Local',\n",
       " 'LOGONSERVER': '\\\\\\\\TXSLADDCP3',\n",
       " 'NUMBER_OF_PROCESSORS': '16',\n",
       " 'OS': 'Windows_NT',\n",
       " 'PATH': 'C:\\\\Users\\\\basiab1\\\\Anaconda3;C:\\\\Users\\\\basiab1\\\\Anaconda3\\\\Library\\\\mingw-w64\\\\bin;C:\\\\Users\\\\basiab1\\\\Anaconda3\\\\Library\\\\usr\\\\bin;C:\\\\Users\\\\basiab1\\\\Anaconda3\\\\Library\\\\bin;C:\\\\Users\\\\basiab1\\\\Anaconda3\\\\Scripts;c:\\\\Program Files (x86)\\\\RSA SecurID Token Common;c:\\\\Program Files\\\\RSA SecurID Token Common;C:\\\\windows\\\\system32;C:\\\\windows;C:\\\\windows\\\\System32\\\\Wbem;C:\\\\windows\\\\System32\\\\WindowsPowerShell\\\\v1.0\\\\;C:\\\\windows\\\\System32\\\\OpenSSH\\\\;C:\\\\Program Files (x86)\\\\Intel\\\\Intel(R) Management Engine Components\\\\DAL;C:\\\\Program Files\\\\Intel\\\\Intel(R) Management Engine Components\\\\DAL;c:\\\\Program Files (x86)\\\\Pulse Secure\\\\VC142.CRT\\\\X64\\\\;c:\\\\Program Files (x86)\\\\Pulse Secure\\\\VC142.CRT\\\\X86\\\\;c:\\\\Program Files (x86)\\\\Common Files\\\\Pulse Secure\\\\TNC Client Plugin\\\\;\\\\\\\\win.eng.vzwnet.com\\\\ednops\\\\policyfiles\\\\shortcuts;C:\\\\Program Files\\\\Zabbix Agent\\\\;C:\\\\Program Files (x86)\\\\Sennheiser\\\\SenncomSDK\\\\;C:\\\\Program Files\\\\PuTTY\\\\;C:\\\\Program Files\\\\WindowsPowerShell\\\\Scripts\\\\HP.ClientScriptLibrary;C:\\\\Program Files\\\\MySQL\\\\MySQL Shell 8.0\\\\bin\\\\;C:\\\\Users\\\\basiab1\\\\AppData\\\\Local\\\\Programs\\\\Python\\\\Python310\\\\Scripts\\\\;C:\\\\Users\\\\basiab1\\\\AppData\\\\Local\\\\Programs\\\\Python\\\\Python310\\\\;C:\\\\Users\\\\basiab1\\\\AppData\\\\Local\\\\Microsoft\\\\WindowsApps;C:\\\\Users\\\\basiab1\\\\AppData\\\\Local\\\\GitHubDesktop\\\\bin',\n",
       " 'PATHEXT': '.COM;.EXE;.BAT;.CMD;.VBS;.VBE;.JS;.JSE;.WSF;.WSH;.MSC;.CPL',\n",
       " 'PROCESSOR_ARCHITECTURE': 'AMD64',\n",
       " 'PROCESSOR_IDENTIFIER': 'Intel64 Family 6 Model 85 Stepping 4, GenuineIntel',\n",
       " 'PROCESSOR_LEVEL': '6',\n",
       " 'PROCESSOR_REVISION': '5504',\n",
       " 'PROGRAMDATA': 'C:\\\\ProgramData',\n",
       " 'PROGRAMFILES': 'C:\\\\Program Files',\n",
       " 'PROGRAMFILES(X86)': 'C:\\\\Program Files (x86)',\n",
       " 'PROGRAMW6432': 'C:\\\\Program Files',\n",
       " 'PSMODULEPATH': 'C:\\\\Users\\\\basiab1\\\\Documents\\\\WindowsPowerShell\\\\Modules;C:\\\\Program Files\\\\WindowsPowerShell\\\\Modules;C:\\\\windows\\\\system32\\\\WindowsPowerShell\\\\v1.0\\\\Modules',\n",
       " 'PUBLIC': 'C:\\\\Users\\\\Public',\n",
       " 'SESSIONNAME': 'RDP-Tcp#18',\n",
       " 'STTASKFOLDERPATH': 'Ivanti\\\\PatchSDK\\\\Deployments',\n",
       " 'SYSTEMDRIVE': 'C:',\n",
       " 'SYSTEMROOT': 'C:\\\\windows',\n",
       " 'TEMP': 'C:\\\\Users\\\\basiab1\\\\AppData\\\\Local\\\\Temp',\n",
       " 'TMP': 'C:\\\\Users\\\\basiab1\\\\AppData\\\\Local\\\\Temp',\n",
       " 'UATDATA': 'C:\\\\windows\\\\CCM\\\\UATData\\\\D9F8C395-CAB8-491d-B8AC-179A1FE1BE77',\n",
       " 'USERDNSDOMAIN': 'WIN.ENG.VZWNET.COM',\n",
       " 'USERDOMAIN': 'WIN-VZWNET',\n",
       " 'USERDOMAIN_ROAMINGPROFILE': 'WIN-VZWNET',\n",
       " 'USERNAME': 'basiab1',\n",
       " 'USERPROFILE': 'C:\\\\Users\\\\basiab1',\n",
       " 'WINDIR': 'C:\\\\windows',\n",
       " 'CONDA_PREFIX': 'C:\\\\Users\\\\basiab1\\\\Anaconda3',\n",
       " 'PYDEVD_USE_FRAME_EVAL': 'NO',\n",
       " 'TERM': 'xterm-color',\n",
       " 'PYXTERM_DIMENSIONS': '80x25',\n",
       " 'COLUMNS': '80',\n",
       " 'LINES': '25',\n",
       " 'JUPYTER_SERVER_ROOT': 'C:\\\\Users\\\\basiab1',\n",
       " 'JUPYTER_SERVER_URL': 'http://localhost:8888/',\n",
       " 'JPY_INTERRUPT_EVENT': '3912',\n",
       " 'IPY_INTERRUPT_EVENT': '3912',\n",
       " 'JPY_PARENT_PID': '3876',\n",
       " 'CLICOLOR': '1',\n",
       " 'PAGER': 'cat',\n",
       " 'GIT_PAGER': 'cat',\n",
       " 'MPLBACKEND': 'module://matplotlib_inline.backend_inline'}"
      ]
     },
     "execution_count": 14,
     "metadata": {},
     "output_type": "execute_result"
    }
   ],
   "source": [
    "%env"
   ]
  },
  {
   "cell_type": "code",
   "execution_count": 16,
   "metadata": {},
   "outputs": [
    {
     "name": "stdout",
     "output_type": "stream",
     "text": [
      "Requirement already satisfied: protobuf in c:\\users\\basiab1\\anaconda3\\lib\\site-packages (3.20.1)\n"
     ]
    },
    {
     "name": "stderr",
     "output_type": "stream",
     "text": [
      "WARNING: Ignoring invalid distribution -rotobuf (c:\\users\\basiab1\\anaconda3\\lib\\site-packages)\n",
      "WARNING: Ignoring invalid distribution -rotobuf (c:\\users\\basiab1\\anaconda3\\lib\\site-packages)\n",
      "WARNING: Ignoring invalid distribution -rotobuf (c:\\users\\basiab1\\anaconda3\\lib\\site-packages)\n",
      "WARNING: Ignoring invalid distribution -rotobuf (c:\\users\\basiab1\\anaconda3\\lib\\site-packages)\n",
      "WARNING: Ignoring invalid distribution -rotobuf (c:\\users\\basiab1\\anaconda3\\lib\\site-packages)\n",
      "WARNING: Ignoring invalid distribution -rotobuf (c:\\users\\basiab1\\anaconda3\\lib\\site-packages)\n"
     ]
    }
   ],
   "source": [
    "! pip install protobuf"
   ]
  },
  {
   "cell_type": "code",
   "execution_count": 17,
   "metadata": {
    "scrolled": true
   },
   "outputs": [
    {
     "ename": "AttributeError",
     "evalue": "module 'snappy' has no attribute 'compress'",
     "output_type": "error",
     "traceback": [
      "\u001b[1;31m---------------------------------------------------------------------------\u001b[0m",
      "\u001b[1;31mAttributeError\u001b[0m                            Traceback (most recent call last)",
      "\u001b[1;32m~\\AppData\\Local\\Temp/ipykernel_28332/3996100642.py\u001b[0m in \u001b[0;36m<module>\u001b[1;34m\u001b[0m\n\u001b[0;32m     98\u001b[0m         \u001b[0mf\u001b[0m\u001b[1;33m.\u001b[0m\u001b[0mwrite\u001b[0m\u001b[1;33m(\u001b[0m\u001b[0msnappy\u001b[0m\u001b[1;33m.\u001b[0m\u001b[0mcompress\u001b[0m\u001b[1;33m(\u001b[0m\u001b[0mroutes\u001b[0m\u001b[1;33m.\u001b[0m\u001b[0mSerializeToString\u001b[0m\u001b[1;33m(\u001b[0m\u001b[1;33m)\u001b[0m\u001b[1;33m)\u001b[0m\u001b[1;33m)\u001b[0m\u001b[1;33m\u001b[0m\u001b[1;33m\u001b[0m\u001b[0m\n\u001b[0;32m     99\u001b[0m \u001b[1;33m\u001b[0m\u001b[0m\n\u001b[1;32m--> 100\u001b[1;33m \u001b[0mcreate_protobuf_dataset\u001b[0m\u001b[1;33m(\u001b[0m\u001b[0mrecords\u001b[0m\u001b[1;33m)\u001b[0m\u001b[1;33m\u001b[0m\u001b[1;33m\u001b[0m\u001b[0m\n\u001b[0m",
      "\u001b[1;32m~\\AppData\\Local\\Temp/ipykernel_28332/3996100642.py\u001b[0m in \u001b[0;36mcreate_protobuf_dataset\u001b[1;34m(records)\u001b[0m\n\u001b[0;32m     96\u001b[0m \u001b[1;33m\u001b[0m\u001b[0m\n\u001b[0;32m     97\u001b[0m     \u001b[1;32mwith\u001b[0m \u001b[0mopen\u001b[0m\u001b[1;33m(\u001b[0m\u001b[0mcompressed_path\u001b[0m\u001b[1;33m,\u001b[0m \u001b[1;34m'wb'\u001b[0m\u001b[1;33m)\u001b[0m \u001b[1;32mas\u001b[0m \u001b[0mf\u001b[0m\u001b[1;33m:\u001b[0m\u001b[1;33m\u001b[0m\u001b[1;33m\u001b[0m\u001b[0m\n\u001b[1;32m---> 98\u001b[1;33m         \u001b[0mf\u001b[0m\u001b[1;33m.\u001b[0m\u001b[0mwrite\u001b[0m\u001b[1;33m(\u001b[0m\u001b[0msnappy\u001b[0m\u001b[1;33m.\u001b[0m\u001b[0mcompress\u001b[0m\u001b[1;33m(\u001b[0m\u001b[0mroutes\u001b[0m\u001b[1;33m.\u001b[0m\u001b[0mSerializeToString\u001b[0m\u001b[1;33m(\u001b[0m\u001b[1;33m)\u001b[0m\u001b[1;33m)\u001b[0m\u001b[1;33m)\u001b[0m\u001b[1;33m\u001b[0m\u001b[1;33m\u001b[0m\u001b[0m\n\u001b[0m\u001b[0;32m     99\u001b[0m \u001b[1;33m\u001b[0m\u001b[0m\n\u001b[0;32m    100\u001b[0m \u001b[0mcreate_protobuf_dataset\u001b[0m\u001b[1;33m(\u001b[0m\u001b[0mrecords\u001b[0m\u001b[1;33m)\u001b[0m\u001b[1;33m\u001b[0m\u001b[1;33m\u001b[0m\u001b[0m\n",
      "\u001b[1;31mAttributeError\u001b[0m: module 'snappy' has no attribute 'compress'"
     ]
    }
   ],
   "source": [
    "# Correction proposed by Professor\n",
    "sys.path.insert(0, os.path.abspath('routes_pb2'))\n",
    "\n",
    "import routes_pb2\n",
    "\n",
    "def _airport_to_proto_obj(airport):\n",
    "    obj = routes_pb2.Airport()\n",
    "    if airport is None:\n",
    "        return None\n",
    "    if airport.get('airport_id') is None:\n",
    "        return None\n",
    "\n",
    "    obj.airport_id = airport.get('airport_id')\n",
    "    if airport.get('name'):\n",
    "        obj.name = airport.get('name')\n",
    "    if airport.get('city'):\n",
    "        obj.city = airport.get('city')\n",
    "    if airport.get('iata'):\n",
    "        obj.iata = airport.get('iata')\n",
    "    if airport.get('icao'):\n",
    "        obj.icao = airport.get('icao')\n",
    "    if airport.get('altitude'):\n",
    "        obj.altitude = airport.get('altitude')\n",
    "    if airport.get('timezone'):\n",
    "        obj.timezone = airport.get('timezone')\n",
    "    if airport.get('dst'):\n",
    "        obj.dst = airport.get('dst')\n",
    "    if airport.get('tz_id'):\n",
    "        obj.tz_id = airport.get('tz_id')\n",
    "    if airport.get('type'):\n",
    "        obj.type = airport.get('type')\n",
    "    if airport.get('source'):\n",
    "        obj.source = airport.get('source')\n",
    "\n",
    "    obj.latitude = airport.get('latitude')\n",
    "    obj.longitude = airport.get('longitude')\n",
    "\n",
    "    return obj\n",
    "\n",
    "\n",
    "def _airline_to_proto_obj(airline):\n",
    "    obj = routes_pb2.Airline()\n",
    "    if not airline.get('name'):\n",
    "        return None\n",
    "    if not airline.get('airline_id'):\n",
    "        return None\n",
    "\n",
    "    obj.airline_id = airline.get('airline_id')\n",
    "    obj.name = airline.get('name')\n",
    "\n",
    "    if airline.get('alias'):\n",
    "        obj.alias = airline.get('alias')\n",
    "    if airline.get('iata'):\n",
    "        obj.iata = airline.get('iata')\n",
    "    if airline.get('icao'):\n",
    "        obj.icao = airline.get('icao')\n",
    "    if airline.get('callsign'):\n",
    "        obj.callsign = airline.get('callsign')\n",
    "    if airline.get('country'):\n",
    "        obj.country = airline.get('country')\n",
    "    if airline.get('active') is not None:\n",
    "        obj.active = airline.get('active')\n",
    "\n",
    "    return obj\n",
    "\n",
    "\n",
    "def create_protobuf_dataset(records):\n",
    "    routes = routes_pb2.Routes()\n",
    "    for record in records:\n",
    "        route = routes_pb2.Route()\n",
    "        airline = _airline_to_proto_obj(record.get('airline', {}))\n",
    "        if airline:\n",
    "            route.airline.CopyFrom(airline)\n",
    "        src_airport = _airport_to_proto_obj(record.get('src_airport', {}))\n",
    "        if src_airport:\n",
    "            route.src_airport.CopyFrom(src_airport)\n",
    "        dst_airport = _airport_to_proto_obj(record.get('dst_airport', {}))\n",
    "        if dst_airport:\n",
    "            route.dst_airport.CopyFrom(dst_airport)\n",
    "        if record.get('codeshare'):\n",
    "            route.codeshare = record.get('codeshare')\n",
    "        else:\n",
    "            route.codeshare = False\n",
    "        if record.get('stops') is not None:\n",
    "            route.stops = record.get('stops')\n",
    "        if record.get('equipment'):\n",
    "            route.equipment.extend(record.get('equipment'))\n",
    "\n",
    "        routes.route.append(route)\n",
    "\n",
    "    data_path = results_dir.joinpath('routes.pb')\n",
    "\n",
    "    with open(data_path, 'wb') as f:\n",
    "        f.write(routes.SerializeToString())\n",
    "        \n",
    "    compressed_path = results_dir.joinpath('routes.pb.snappy')\n",
    "    \n",
    "    with open(compressed_path, 'wb') as f:\n",
    "        f.write(snappy.compress(routes.SerializeToString()))\n",
    "        \n",
    "create_protobuf_dataset(records)"
   ]
  },
  {
   "cell_type": "markdown",
   "metadata": {},
   "source": [
    "## 3.2"
   ]
  },
  {
   "cell_type": "markdown",
   "metadata": {},
   "source": [
    "### 3.2.a Simple Geohash Index"
   ]
  },
  {
   "cell_type": "code",
   "execution_count": 18,
   "metadata": {},
   "outputs": [],
   "source": [
    "def create_hash_dirs(records):\n",
    "    geoindex_dir = results_dir.joinpath('geoindex')\n",
    "    geoindex_dir.mkdir(exist_ok=True, parents=True)\n",
    "    hashes = []\n",
    "    ## TODO: Create hash index\n",
    "    for record in records:\n",
    "        src_airport = record.get('src_airport', {})\n",
    "        if src_airport:\n",
    "            latitude = src_airport.get('latitude')\n",
    "            longitude = src_airport.get('longitude')\n",
    "            if latitude and longitude:\n",
    "                hashes.append(pygeohash.encode(latitude, longitude))\n",
    "    hashes.sort()\n",
    "    \n",
    "    three_letter = sorted(list(set([entry[:3] for entry in hashes])))\n",
    "    \n",
    "    hash_index = {value: [] for value in three_letter}\n",
    "    \n",
    "    for record in records:\n",
    "        geohash = record.get('geohash')\n",
    "        if geohash:\n",
    "            hash_index[geohash[:3]].append(record)\n",
    "            \n",
    "    for key, values in hash_index.items():\n",
    "        output_dir = geoindex_dir.joinpath(str(key[:1])).joinpath(str(key[:2]))\n",
    "        output_dir.mkdir(exist_ok=True, parents=True)\n",
    "        output_path = output_dir.joinpath('{}.jsonl.gz'.format(key))\n",
    "        with gzip.open(output_path, 'w') as f:\n",
    "            json_output = '\\n'.join([json.dumps(value) for value in values])\n",
    "            f.write(json_output.encode('utf-8'))\n",
    "\n",
    "create_hash_dirs(records)         "
   ]
  },
  {
   "cell_type": "markdown",
   "metadata": {},
   "source": [
    "### 3.2.b Simple Search Feature"
   ]
  },
  {
   "cell_type": "code",
   "execution_count": 19,
   "metadata": {},
   "outputs": [],
   "source": [
    "def airport_search(latitude, longitude):\n",
    "    ## TODO: Create simple search to return nearest airport\n",
    "    a = pygeohash.encode(latitude, longitude)\n",
    "    dist = 0\n",
    "    name = ''\n",
    "    \n",
    "    for i, record in enumerate(records):\n",
    "        src_airport = record.get('src_airport', {})\n",
    "        if src_airport:\n",
    "            lat = src_airport.get('latitude')\n",
    "            long = src_airport.get('longitude')\n",
    "            airport_name = src_airport.get('name')\n",
    "            if lat and long:\n",
    "                a1 = pygeohash.encode(lat, long)\n",
    "                \n",
    "                dist_n = pygeohash.geohash_approximate_distance(a, a1)\n",
    "                if i==0:\n",
    "                    dist = dist_n\n",
    "                    name = airport_name\n",
    "                else:\n",
    "                    if dist > dist_n:\n",
    "                        dist = dist_n\n",
    "                        name = airport_name\n",
    "    print(name)"
   ]
  },
  {
   "cell_type": "code",
   "execution_count": 20,
   "metadata": {},
   "outputs": [
    {
     "name": "stdout",
     "output_type": "stream",
     "text": [
      "Eppley Airfield\n"
     ]
    }
   ],
   "source": [
    "airport_search(41.1499988, -95.91779)"
   ]
  },
  {
   "cell_type": "code",
   "execution_count": 21,
   "metadata": {},
   "outputs": [
    {
     "name": "stdout",
     "output_type": "stream",
     "text": [
      "Chicago O'Hare International Airport\n"
     ]
    }
   ],
   "source": [
    "# Airport search for O'Hare International Airport\n",
    "# Coordinates searched in google: 41.9803° N, 87.9090° W\n",
    "airport_search(41.9803, -87.9090)"
   ]
  }
 ],
 "metadata": {
  "kernelspec": {
   "display_name": "Python 3 (ipykernel)",
   "language": "python",
   "name": "python3"
  },
  "language_info": {
   "codemirror_mode": {
    "name": "ipython",
    "version": 3
   },
   "file_extension": ".py",
   "mimetype": "text/x-python",
   "name": "python",
   "nbconvert_exporter": "python",
   "pygments_lexer": "ipython3",
   "version": "3.9.7"
  }
 },
 "nbformat": 4,
 "nbformat_minor": 4
}
