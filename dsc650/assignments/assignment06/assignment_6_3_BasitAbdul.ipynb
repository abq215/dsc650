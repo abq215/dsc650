{
 "cells": [
  {
   "cell_type": "markdown",
   "metadata": {},
   "source": [
    "# Assignment 6.3"
   ]
  },
  {
   "cell_type": "markdown",
   "metadata": {},
   "source": [
    "### Load the ResNet50 model. Perform image classification on five to ten images of your choice. They can be personal images or publically available images. Include the images in dsc650/assignments/assignment06/images/. Save the predictions dsc650/assignments/assignment06/results/predictions/resnet50 directory. If you are using JupyterHub, you can include those plots in your Jupyter notebook."
   ]
  },
  {
   "cell_type": "code",
   "execution_count": 1,
   "metadata": {
    "scrolled": true
   },
   "outputs": [
    {
     "name": "stdout",
     "output_type": "stream",
     "text": [
      "Requirement already satisfied: opencv-python in /opt/conda/lib/python3.8/site-packages (4.6.0.66)\r\n",
      "Requirement already satisfied: numpy>=1.17.3; python_version >= \"3.8\" in /opt/conda/lib/python3.8/site-packages (from opencv-python) (1.18.5)\r\n"
     ]
    }
   ],
   "source": [
    "!pip install opencv-python"
   ]
  },
  {
   "cell_type": "code",
   "execution_count": 2,
   "metadata": {},
   "outputs": [],
   "source": [
    "from tensorflow.keras.applications.resnet50 import ResNet50\n",
    "from tensorflow.keras.preprocessing import image\n",
    "from tensorflow.keras.applications.resnet50 import preprocess_input, decode_predictions\n",
    "import numpy as np\n",
    "import os, cv2\n",
    "import matplotlib.pyplot as plt"
   ]
  },
  {
   "cell_type": "code",
   "execution_count": 3,
   "metadata": {},
   "outputs": [
    {
     "data": {
      "text/plain": [
       "'/home/jovyan/dsc650/dsc650/assignments/assignment06'"
      ]
     },
     "execution_count": 3,
     "metadata": {},
     "output_type": "execute_result"
    }
   ],
   "source": [
    "os.getcwd()"
   ]
  },
  {
   "cell_type": "code",
   "execution_count": 4,
   "metadata": {},
   "outputs": [],
   "source": [
    "# Load Model\n",
    "model = ResNet50(weights = 'imagenet')"
   ]
  },
  {
   "cell_type": "code",
   "execution_count": 5,
   "metadata": {},
   "outputs": [],
   "source": [
    "# Get the file path for the images\n",
    "img_path = 'images'"
   ]
  },
  {
   "cell_type": "code",
   "execution_count": 6,
   "metadata": {},
   "outputs": [],
   "source": [
    "images = os.listdir(img_path)"
   ]
  },
  {
   "cell_type": "code",
   "execution_count": 7,
   "metadata": {},
   "outputs": [
    {
     "name": "stdout",
     "output_type": "stream",
     "text": [
      "lion.jpg\n",
      ".ipynb_checkpoints\n",
      "zebra.jpg\n",
      "giraffe.jpg\n",
      "fox.jpg\n",
      "tiger.jpg\n",
      "rabbit.jpg\n"
     ]
    }
   ],
   "source": [
    "# Get the filename for each image\n",
    "for i, name in enumerate(images):\n",
    "    print(name)"
   ]
  },
  {
   "cell_type": "code",
   "execution_count": 8,
   "metadata": {},
   "outputs": [
    {
     "name": "stdout",
     "output_type": "stream",
     "text": [
      "Downloading data from https://storage.googleapis.com/download.tensorflow.org/data/imagenet_class_index.json\n",
      "40960/35363 [==================================] - 0s 0us/step\n",
      "('lion.jpg', [('n02129165', 'lion', 0.88315237), ('n02128757', 'snow_leopard', 0.018691592), ('n02487347', 'macaque', 0.010037277)])\n",
      "('zebra.jpg', [('n02391049', 'zebra', 0.99975246), ('n02422106', 'hartebeest', 0.00014737848), ('n02422699', 'impala', 9.2034505e-05)])\n",
      "('giraffe.jpg', [('n01665541', 'leatherback_turtle', 0.19476254), ('n04604644', 'worm_fence', 0.17185062), ('n02391049', 'zebra', 0.060387988)])\n",
      "('fox.jpg', [('n02120505', 'grey_fox', 0.47995383), ('n02114548', 'white_wolf', 0.11556621), ('n02119789', 'kit_fox', 0.11196693)])\n",
      "('tiger.jpg', [('n02128757', 'snow_leopard', 0.66197836), ('n02125311', 'cougar', 0.1805466), ('n02127052', 'lynx', 0.07387976)])\n",
      "('rabbit.jpg', [('n02326432', 'hare', 0.92289644), ('n02325366', 'wood_rabbit', 0.056178406), ('n02328150', 'Angora', 0.019021347)])\n"
     ]
    }
   ],
   "source": [
    "# Write the predictions into a file\n",
    "for i,name in enumerate(images):\n",
    "    \n",
    "    if name != '.ipynb_checkpoints':\n",
    "        img = cv2.imread(img_path + '/' + name)\n",
    "        img = cv2.resize(img, (224,224))\n",
    "        x = image.img_to_array(img)\n",
    "        x = np.expand_dims(x, axis=0)\n",
    "        x = preprocess_input(x)\n",
    "        \n",
    "        preds = model.predict(x)\n",
    "        \n",
    "        decpr = name, decode_predictions(preds, top=3)[0]\n",
    "        \n",
    "        print(decpr)\n",
    "\n",
    "        with open('/home/jovyan/dsc650/dsc650/assignments/assignment06/results/predictions/resnet50/6_3_predictions.txt', 'w') as f:\n",
    "            f.write(decpr[0])\n",
    "    else:\n",
    "        pass"
   ]
  },
  {
   "cell_type": "code",
   "execution_count": null,
   "metadata": {},
   "outputs": [],
   "source": []
  }
 ],
 "metadata": {
  "kernelspec": {
   "display_name": "Python 3",
   "language": "python",
   "name": "python3"
  },
  "language_info": {
   "codemirror_mode": {
    "name": "ipython",
    "version": 3
   },
   "file_extension": ".py",
   "mimetype": "text/x-python",
   "name": "python",
   "nbconvert_exporter": "python",
   "pygments_lexer": "ipython3",
   "version": "3.8.3"
  }
 },
 "nbformat": 4,
 "nbformat_minor": 4
}
