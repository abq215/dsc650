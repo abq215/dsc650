{
 "cells": [
  {
   "cell_type": "markdown",
   "metadata": {},
   "source": [
    "## Title: Assignment 1\n",
    "## Subtitle: Computer performance, reliability, and scalability calculation\n",
    "## Author: Abdul Basit\n",
    "## Date: 2nd September, 2022"
   ]
  },
  {
   "cell_type": "markdown",
   "metadata": {},
   "source": [
    "---"
   ]
  },
  {
   "cell_type": "markdown",
   "metadata": {
    "tags": []
   },
   "source": [
    "### 1.2 Assignment"
   ]
  },
  {
   "cell_type": "markdown",
   "metadata": {},
   "source": [
    "#### a. Data Sizes"
   ]
  },
  {
   "cell_type": "markdown",
   "metadata": {},
   "source": [
    "| Data Item                                  | Size per Item | Ref  |\n",
    "|--------------------------------------------|--------------:|------|\n",
    "| 128 character message.                     | 128 Bytes     |  1   |\n",
    "| 1024x768 PNG image                         | 1.5 MB        |  2   |\n",
    "| 1024x768 RAW image                         | 2.25 MB       |  3   |\n",
    "| HD (1080p) HEVC Video (15 minutes)         | 2500 MB       |  4   |\n",
    "| HD (1080p) Uncompressed Video (15 minutes) | 15600 MB      |  5   |\n",
    "| 4K UHD HEVC Video (15 minutes)             | 2550 MB       |  6   |\n",
    "| 4k UHD Uncompressed Video (15 minutes)     | 255000 MB     |  7   |\n",
    "| Human Genome (Uncompressed)                | 1.5 GB        |  8   |"
   ]
  },
  {
   "cell_type": "markdown",
   "metadata": {},
   "source": [
    "## Solution Reference:\n",
    "\n",
    "1. http://extraconversion.com/data-storage/characters/characters-to-bits.html \n",
    "2. ((1024 * 768 * 16 bit)/(8 * 1024))/1024=1.5 MB\n",
    "3. ((1024 * 768 * 24 bit))/(8 * 1024))/1024=2.25 MB\n",
    "4. http://extraconversion.com/data-storage/characters/characters-to-bits.html\n",
    "5. https://www.digitalrebellion.com/webapps/videocalc?format=uncompressed_8_1080&frame_rate=f30&length=15&length_type=minutes\n",
    "6. 170MB per 60 seconds (1 minute) so 170MB*15minutes = 2550 MB\n",
    "7. Same as 6\n",
    "https://www.imore.com/how-shoot-trim-edit-and-share-4k-video-iphone \n",
    "8. https://bitesizebio.com/8378/how-much-information-is-stored-in-the-human-genome/ "
   ]
  },
  {
   "cell_type": "markdown",
   "metadata": {},
   "source": [
    "#### b. Scaling"
   ]
  },
  {
   "cell_type": "markdown",
   "metadata": {},
   "source": [
    "|                                           | Size       | # HD | \n",
    "|-------------------------------------------|----------: |-----:|\n",
    "| Daily Twitter Tweets (Uncompressed)       | 64GB       | 1    |\n",
    "| Daily Twitter Tweets (Snappy Compressed)  | 37.65GB    | 1    |\n",
    "| Daily Instagram Photos                    | 112.5TB    | 12   |\n",
    "| Daily YouTube Videos                      | 500TB      | 50   |\n",
    "| Yearly Twitter Tweets (Uncompressed)      | 23.36TB    | 3    |\n",
    "| Yearly Twitter Tweets (Snappy Compressed) | 13.75TB    | 2    |\n",
    "| Yearly Instagram Photos                   | 41062.5TB  | 4107 |\n",
    "| Yearly YouTube Videos                     | 182500TB   | 18250|\n"
   ]
  },
  {
   "cell_type": "markdown",
   "metadata": {},
   "source": [
    "## Solution:\n",
    "\n",
    "1. 500 million * 128 bytes = 64GB\n",
    "2. 64GB / 1.7 = 37.65 GB\n",
    "3. 75 Million Instagram Pictures * 1.5 MB PNG Image = 112500000MB = 112.5 TB. 112.5 TB / 10 TB per HD = 11.25 HD. (round up = 12 HD)\n",
    "4. 500 hours * 60 mins = 30000 mins. 15 min = 2500MB, 30000/15 = 2000, 2000 * 2500 = 5000000MB = 500 TB\n",
    "5. 64 GB (daily) * 365 = 23360 GB = 23.36 TB, 23.36 / 10 TB per HD = 2.336 (round up = 3 HD)\n",
    "6. 37.65 GB (daily) * 365 = 13742.25 GB = 13.75 TB, 13.75 / 10 TB per HD = 1.375 (round up = 2 HD)\n",
    "7. 112.5 TB (daily) * 365 = 41062.5 TB, 41062.5 / 10 TB per HD = 4106.25 (round up = 4107 HD)\n",
    "8. 500 TB (daily) * 365 = 182500 TB, 182500 / 10 TB per HD = 18250 HD"
   ]
  },
  {
   "cell_type": "markdown",
   "metadata": {},
   "source": [
    "#### c. Reliability"
   ]
  },
  {
   "cell_type": "markdown",
   "metadata": {},
   "source": [
    "|                                    | # HD | # Failures |\n",
    "|------------------------------------|-----:|-----------:|\n",
    "| Twitter Tweets (Uncompressed)      | 3    |   0.0255   |\n",
    "| Twitter Tweets (Snappy Compressed) | 2    |   0.017    |\n",
    "| Instagram Photos                   |4107  |   34.9095  |\n",
    "| YouTube Videos                     |18250 |   3155.125 |"
   ]
  },
  {
   "cell_type": "markdown",
   "metadata": {},
   "source": [
    "## Solution:\n",
    "Failure rate = 0.85% (https://www.backblaze.com/b2/hard-drive-test-data.html)\n",
    " 0.0085 * 3 = 0.0255\n",
    " 0.0085 * 2 = 0.017\n",
    " 0.0085 * 4107 = 34.9095\n",
    " 0.0085 * 18250 = 155.125"
   ]
  },
  {
   "cell_type": "markdown",
   "metadata": {},
   "source": [
    "#### d. Latency"
   ]
  },
  {
   "cell_type": "markdown",
   "metadata": {},
   "source": [
    "|                           | One Way Latency      |\n",
    "|---------------------------|---------------------:|\n",
    "| Los Angeles to Amsterdam  | 139.611 ms           |\n",
    "| Low Earth Orbit Satellite | 600 ms               |\n",
    "| Geostationary Satellite   | 240 ms               |\n",
    "| Earth to the Moon         | 2560 ms              |\n",
    "| Earth to Mars             | 13 minutes           | "
   ]
  },
  {
   "cell_type": "markdown",
   "metadata": {},
   "source": [
    "## Solution:\n",
    "\n",
    "1. https://wondernetwork.com/pings\n",
    "2. https://www.omniaccess.com/leo/#:~:text=The%20GEO%20latency%20is%20of,and%20an%20essential%20part%20if\n",
    "3. https://www.satsig.net/latency.htm\n",
    "4. https://en.wikipedia.org/wiki/Earth%E2%80%93Moon%E2%80%93Earth_communication#:~:text=Propagation%20time%20to%20the%20Moon,milliseconds%20of%20wave%20travel%20time.\n",
    "5. https://blogs.esa.int/mex/2012/08/05/time-delay-between-mars-and-earth"
   ]
  },
  {
   "cell_type": "markdown",
   "metadata": {},
   "source": [
    "## END"
   ]
  }
 ],
 "metadata": {
  "kernelspec": {
   "display_name": "Python 3",
   "language": "python",
   "name": "python3"
  },
  "language_info": {
   "codemirror_mode": {
    "name": "ipython",
    "version": 3
   },
   "file_extension": ".py",
   "mimetype": "text/x-python",
   "name": "python",
   "nbconvert_exporter": "python",
   "pygments_lexer": "ipython3",
   "version": "3.8.3"
  }
 },
 "nbformat": 4,
 "nbformat_minor": 5
}
